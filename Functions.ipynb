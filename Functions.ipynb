{
 "cells": [
  {
   "cell_type": "markdown",
   "id": "d83dff0d-35d2-444f-a83d-5c6e3dba780a",
   "metadata": {},
   "source": [
    "## Q1> What is the difference between a function and a method in Python?\n",
    "Ans. \n",
    "### FUNCTIONS\n",
    "1 Functions are outside a class\n",
    "2 Functions are not linked to anything\n",
    "3 Functions can be executed just by calling with its name\n",
    "4 Functions can have zero parameters\n",
    "5 Functions cannot access or modify class attributes\n",
    "6 Functions are independent of classes  \n",
    "\n",
    "Syntax of functions\n",
    "\n",
    "   function_name(arguments)\n",
    "\n",
    "### METHODS--\n",
    "1 Methods are created inside a class.\n",
    "2 Methods are linked with the classes they are created in \n",
    "3 To use methods we need to either an object or class name and a dot operator\n",
    "4 Methods should have default parameteres either self or class to get the object's or class's address.\n",
    "5 Methods can access or modify class attributes\n",
    "6 Methods are dependent on classes.\n",
    "\n",
    "Syntax of methods\n",
    "class ClassName:\n",
    "  def method_name():\n",
    "    …………\n",
    "   Method_body    \n",
    "…………"
   ]
  },
  {
   "cell_type": "code",
   "execution_count": 8,
   "id": "50389963-9ff8-4363-a245-c8467b28f77d",
   "metadata": {},
   "outputs": [
    {
     "name": "stdout",
     "output_type": "stream",
     "text": [
      "3\n",
      "\n",
      "I am Leeza\n"
     ]
    }
   ],
   "source": [
    "#example of function-\n",
    "def add(num1, num2):\n",
    "    sum = num1 + num2\n",
    "    return sum\n",
    "print(add(1,2))\n",
    "\n",
    "#example of methods-\n",
    "print()\n",
    "class Employee(object):\n",
    "   def my_method(self):\n",
    "      print(\"I am Leeza\")\n",
    "name = Employee()\n",
    "name.my_method()"
   ]
  },
  {
   "cell_type": "markdown",
   "id": "3049372b-2b74-411e-b382-bcb7248ef78c",
   "metadata": {},
   "source": [
    "## Q2> Explain the concept of function arguments and parameters in Python\n",
    "Ans.\n",
    "### Arguments\n",
    "An argument is a value that is passed to a function when it is called. It might be a variable, value or object passed to a function or method as input. They are written when we are calling the function.\n",
    "\n",
    "### Parameters\n",
    "A parameter is the variable defined within the parentheses during function definition. Simply they are written when we declare a function. \n",
    "\n"
   ]
  },
  {
   "cell_type": "code",
   "execution_count": 12,
   "id": "d0cc0727-24b2-458d-ab69-f8cab9cac737",
   "metadata": {},
   "outputs": [
    {
     "name": "stdout",
     "output_type": "stream",
     "text": [
      "3\n",
      "3\n"
     ]
    }
   ],
   "source": [
    "#explanation of parameters\n",
    "# Here a,b are the parameters\n",
    "def sum(a,b):\n",
    "  print(a+b)\n",
    "  \n",
    "sum(1,2)\n",
    "\n",
    "#explanation of arguments\n",
    "def sum(a,b):\n",
    "  print(a+b)\n",
    "  \n",
    "# Here the values 1,2 are arguments\n",
    "sum(1,2)"
   ]
  },
  {
   "cell_type": "code",
   "execution_count": 20,
   "id": "edc82bdc-11af-46fb-a91c-c3e0037ed664",
   "metadata": {},
   "outputs": [
    {
     "name": "stdin",
     "output_type": "stream",
     "text": [
      "Enter your name:  Leeza\n"
     ]
    },
    {
     "name": "stdout",
     "output_type": "stream",
     "text": [
      "Hello Leeza\n",
      "\n",
      "This is a test\n",
      "\n",
      "\n",
      "\n",
      "We are in the main function\n",
      "This is nested function \n"
     ]
    }
   ],
   "source": [
    "# Q3>  What are the different ways to define and call a function in Python?\n",
    "#ans. There are four steps in defining a function\n",
    "# 1. Use the keyword def to declare the function and follow this up with the function name.\n",
    "# 2. Add parameters to the function: they should be within the parentheses of the function.End your line with a colon.\n",
    "# 3. Add statements that the functions should execute.\n",
    "# 4. End your function with a return statement if the function should output something. \n",
    "#    Without the return statement, your function will return an object \n",
    "\n",
    "def hello():\n",
    "  name = str(input(\"Enter your name: \"))\n",
    "  if name:\n",
    "    print (\"Hello \" + str(name))\n",
    "  else:\n",
    "    print(\"Hello World\") \n",
    "  return \n",
    "  \n",
    "hello()\n",
    "\n",
    "# There are different ways to call a function\n",
    "\n",
    "# 1. Direct Function call-- This is the most simple and intutive way\n",
    "print()\n",
    "def test():\n",
    "    print(\"This is a test\")\n",
    "test()\n",
    "\n",
    "# 2.Use Partial() Function--In the built-in library of functools, there is a partial method \n",
    "#                           dedicated to generating partial functions.\n",
    "print()\n",
    "def power(x, n):\n",
    "    s = 1\n",
    "    while n > 0:\n",
    "        n = n - 1\n",
    "        s = s * x\n",
    "    return s\n",
    "\n",
    "from functools import partial\n",
    "\n",
    "power_2 = partial(power, n=2)\n",
    "power_2(3)  # output: 9\n",
    "power_2(4)  # output: 16\n",
    "\n",
    "# 3.Calling Nested functions-- We can also create and call nested functions;\n",
    "#simply create the nested function within the main function and call it in the main function to execute it.\n",
    "print()\n",
    "print()\n",
    "def mainFunc():\n",
    "    print(\"We are in the main function\")\n",
    "    def nestedFunc():\n",
    "        print(\"This is nested function \")\n",
    "    \n",
    "    nestedFunc()\n",
    "mainFunc()\n"
   ]
  },
  {
   "cell_type": "markdown",
   "id": "d0ac9df2-ccee-4aa6-b514-d432ffb9ea80",
   "metadata": {},
   "source": [
    "## Q4> What is the purpose of the `return` statement in a Python function?\n",
    "Ans. A return statement is used to end the execution of the function call and “returns” the result (value of the expression following the return keyword) to the caller. The statements after the return statements are not executed. If the return statement is without any expression, then the special value None is returned. A return statement is overall used to invoke a function so that the passed statements can be executed.\n",
    "\n",
    "Note: Return statement can not be used outside the function.\n",
    "\n",
    "SYNTAX-\n",
    "\n",
    "def fun():\n",
    "    statements\n",
    "    .\n",
    "    .\n",
    "    return [expression]\n"
   ]
  },
  {
   "cell_type": "code",
   "execution_count": 21,
   "id": "da251ef3-b834-4580-96be-e42527128dd4",
   "metadata": {},
   "outputs": [
    {
     "name": "stdout",
     "output_type": "stream",
     "text": [
      "Result of add function is 5\n",
      "\n",
      "Result of is_true function is True\n"
     ]
    }
   ],
   "source": [
    "# Python program to \n",
    "# demonstrate return statement \n",
    "\n",
    "def add(a, b):\n",
    "\n",
    "    # returning sum of a and b\n",
    "    return a + b\n",
    "\n",
    "def is_true(a):\n",
    "\n",
    "    # returning boolean of a\n",
    "    return bool(a)\n",
    "\n",
    "# calling function\n",
    "res = add(2, 3)\n",
    "print(\"Result of add function is {}\".format(res))\n",
    "\n",
    "res = is_true(2<5)\n",
    "print(\"\\nResult of is_true function is {}\".format(res))"
   ]
  },
  {
   "cell_type": "markdown",
   "id": "9aec5dbd-c8ce-41f5-bc62-805b7b2e3dda",
   "metadata": {},
   "source": [
    "## Q5> What are iterators in Python and how do they differ from iterables?\n",
    "Ans. Distinguishing between iterators and iterables\n",
    "1. The __iter__() method is not associated with the iterator or the iterables. It shows different behavior for both. In the case of iterators, it returns self and must implement the __next__() method whereas, in the case of iterables, it returns the iterator object that returns elements when called.\n",
    "\n",
    "2. In the case of custom classes, it is not advised to make an object iterable and iterator at the same time.\n",
    "\n",
    "3. The __iter__() method as mentioned above returns self. This implies it doesn't ensure that it will return a new object each time. In contrast, the __iter__() method in iterables always returns a new object every time called.\n",
    "\n",
    "4. Pure iterators are more efficient as they don't hold any data with them. They produce the data on demand. Pure iterables hold the data themselves."
   ]
  },
  {
   "cell_type": "code",
   "execution_count": 25,
   "id": "d46d0f3d-a1bb-4634-af49-a1eb72bde1eb",
   "metadata": {},
   "outputs": [
    {
     "name": "stdout",
     "output_type": "stream",
     "text": [
      "apple\n",
      "banana\n",
      "orange\n",
      "grape\n",
      "apple\n",
      "banana\n",
      "orange\n",
      "grape\n"
     ]
    }
   ],
   "source": [
    "# Example of an iterable (list)\n",
    "fruits = ['apple', 'banana', 'orange', 'grape']\n",
    "\n",
    "# Iterate over the elements using a for loop\n",
    "for fruit in fruits:\n",
    "    print(fruit)\n",
    "\n",
    "# Using iter() and next() to manually iterate over the list\n",
    "fruits_iterable = iter(fruits)\n",
    "\n",
    "# Print each element using next()\n",
    "print(next(fruits_iterable))  # Output: apple\n",
    "print(next(fruits_iterable))  # Output: banana\n",
    "print(next(fruits_iterable))  # Output: orange\n",
    "print(next(fruits_iterable))  # Output: grape"
   ]
  },
  {
   "cell_type": "markdown",
   "id": "31af3b69-d680-44dd-a694-836a231157e2",
   "metadata": {},
   "source": [
    "## Q6> Explain the concept of generators in Python and how they are defined\n",
    "Ans. \n",
    "In Python, a generator is a function that returns an iterator that produces a sequence of values when iterated over.\n",
    "Generators are useful when we want to produce a large sequence of values, but we don't want to store all of them in memory at once."
   ]
  },
  {
   "cell_type": "code",
   "execution_count": 26,
   "id": "a8330348-3557-4584-856d-3015a0013937",
   "metadata": {},
   "outputs": [
    {
     "name": "stdout",
     "output_type": "stream",
     "text": [
      "0\n",
      "1\n",
      "2\n"
     ]
    }
   ],
   "source": [
    "#example of generator functions that use a sequence of numbers\n",
    "def my_generator(n):\n",
    "\n",
    "    # initialize counter\n",
    "    value = 0\n",
    "\n",
    "    # loop until counter is less than n\n",
    "    while value < n:\n",
    "\n",
    "        # produce the current value of the counter\n",
    "        yield value\n",
    "\n",
    "        # increment the counter\n",
    "        value += 1\n",
    "\n",
    "# iterate over the generator object produced by my_generator\n",
    "for value in my_generator(3):\n",
    "\n",
    "    # print each value produced by generator\n",
    "    print(value)\n",
    "    \n",
    "#The yield keyword is used to produce a value from the generator and pause the generator function's\n",
    "#execution until the next value is requested.\n",
    "#The for loop iterates over the generator object produced by my_generator(), \n",
    "#and the print statement prints each value produced by the generator.\n"
   ]
  },
  {
   "cell_type": "markdown",
   "id": "28d03d35-237f-4721-a30b-2197f732c380",
   "metadata": {},
   "source": [
    "## Q7> What are the advantages of using generators over regular functions?\n",
    "Ans. There are several advantages of using generators\n",
    "### Memory Efficiency--\n",
    "One of the biggest advantages of generators is that they are memory efficient. Since a generator yields its values one by one, it does not need to store all of the values in memory at once. This can be especially useful when working with large data sets, as it reduces the risk of running out of memory.\n",
    "### Readability--\n",
    "Generators can make your code easier to read and understand. By breaking up the iteration process into smaller chunks, you can write code that is more concise and easier to follow.\n",
    "### Speed--\n",
    "Generators can also be faster than regular loops, especially when working with large data sets. This is because they avoid the overhead of creating a list or other data structure to store the results.\n"
   ]
  },
  {
   "cell_type": "code",
   "execution_count": 33,
   "id": "8887107a-3e61-46ce-920d-18859a797d21",
   "metadata": {},
   "outputs": [
    {
     "name": "stdout",
     "output_type": "stream",
     "text": [
      "10\n",
      "20\n",
      "30\n"
     ]
    }
   ],
   "source": [
    "# an example that demonstrates the memory efficiency and readability benefits of generators:\n",
    "def gen_fun():\n",
    "    yield 10\n",
    "    yield 20\n",
    "    yield 30\n",
    "    \n",
    "for i in gen_fun():\n",
    "    print(i)\n",
    "\n",
    "#CONCLUSION--Generators are a powerful and flexible feature of the Python programming language.\n",
    "# By yielding values one by one, they offer several advantages over regular loops, including memory efficiency,\n",
    "# readability, and speed. Whether you’re working with large data sets or just want to write more readable\n",
    "# and efficient code,generators are a valuable tool to have in your toolbox."
   ]
  },
  {
   "cell_type": "markdown",
   "id": "67084cd9-e67c-4920-8505-7c0ffb592871",
   "metadata": {},
   "source": [
    "## Q8> What is a lambda function in Python and when is it typically used?\n",
    "Ans. Lambda Function, also referred to as ‘Anonymous function’ is same as a regular python function but can be defined without a name. While normal functions are defined using the def keyword, anonymous functions are defined using the lambda keyword. However,they are restricted to single line of expression. They can take in mutliple parameters as in regular functions.\n",
    "### NEED FOR LAMBDA FUNCTIONS-\n",
    "There are at least 3 reasons:\n",
    "1. Lambda functions reduce the number of lines of code when compared to normal python function defined using def keyword. But this is not exactly true because, even functions defined with def can be defined in one single line. But generally, def functions are written in more than 1 line.\n",
    "2. They are generally used when a function is needed temporarily for a short period of time, often to be used inside another function such as filter, map and reduce.\n",
    "3. Using lambda function, you can define a function and call it immediately at the end of definition. This can’t be done with def functions.\n"
   ]
  },
  {
   "cell_type": "code",
   "execution_count": 38,
   "id": "2ad8243b-e694-4779-b6d4-7f38f632998b",
   "metadata": {},
   "outputs": [
    {
     "name": "stdout",
     "output_type": "stream",
     "text": [
      "Using lambda:  25\n",
      "\n",
      "GOOD MORNING INDIA\n"
     ]
    }
   ],
   "source": [
    "# calculate squares using lambda\n",
    "squares = lambda x: x*x\n",
    "print('Using lambda: ', squares(5))\n",
    "\n",
    "print()\n",
    "str1 = 'GOOD MORNING INDIA'\n",
    "upper = lambda string: string.upper()\n",
    "print(upper(str1))"
   ]
  },
  {
   "cell_type": "markdown",
   "id": "24123ce9-0eb0-40e7-affc-14585e60fa22",
   "metadata": {},
   "source": [
    "## Q9> Explain the purpose and usage of the `map()` function in Python.\n",
    "Ans. Python map() function applies a specific function to all the items of the iterable in order to create a new iterable.\n",
    "The Python map() function allows you to process and transform all the objects in an iterable without needing an explicit for loop, a method known as mapping. When you need to apply a transformation function to each item in an iterable and turn it into a new iterable, you can use the map() function.\n",
    "### SYNTAX-\n",
    "map(function, iterable, ...)\n",
    "\n",
    "where,\n",
    "\n",
    "function = transformation function in which map() passes every element of the iterable\n",
    "\n",
    "iterable = lists, tuples, dictionary, sets, etc.\n",
    "\n",
    "Note – We can pass multiple numbers of iterables to the map() function."
   ]
  },
  {
   "cell_type": "code",
   "execution_count": 41,
   "id": "ab800f23-4577-443e-b823-b947485701e3",
   "metadata": {},
   "outputs": [
    {
     "name": "stdout",
     "output_type": "stream",
     "text": [
      "<map object at 0x71d481613070>\n",
      "List of Cubes: [1, 8, 27, 64, 125]\n",
      "\n",
      "\n",
      "<map object at 0x71d481612410>\n",
      "['Leeza_Rizvi', 'Jyoti_Kumari', 'Diksha_Sharma']\n"
     ]
    }
   ],
   "source": [
    "# Python program to illustrate map() function\n",
    "def Cube(n):\n",
    "    return n*n*n\n",
    " \n",
    "num = (1, 2, 3, 4, 5)\n",
    "result = map(Cube, num)\n",
    "print(result)\n",
    "\n",
    "# Converting map object to a list\n",
    "cube_list = list(result)\n",
    "print('List of Cubes:', cube_list)\n",
    "\n",
    "# Python program to illustrate map() function with multiple iterators\n",
    "print()\n",
    "print()\n",
    "def Fullname(FN, LN):\n",
    "    return FN+\"_\"+LN\n",
    "\n",
    "FN = ('Leeza', 'Jyoti', 'Diksha')\n",
    "LN = ('Rizvi', 'Kumari', 'Sharma')\n",
    "\n",
    "result = map(Fullname, FN, LN)\n",
    "\n",
    "print(result)\n",
    "print(list(result))"
   ]
  },
  {
   "cell_type": "markdown",
   "id": "78f92ce4-c92b-40fb-b908-f0693d72af5a",
   "metadata": {},
   "source": [
    "## Q10> What is the difference between `map()`, `reduce()`, and `filter()` functions in Python?\n",
    "Ans.\n",
    "MAP-- The 'Map' operation in programming refers to the transformation of data from one form into another.\n",
    "REDUCE-- The 'Reduce' operation is a method for combining the elements of a list into a single result.\n",
    "FILTER-- 'Filter' is a method for selecting a subset of items from a list based on a particular condition.\n",
    "### MAP\n",
    "1. DESCRIPTION-- The Map function, from a wide perspective, is about transformation. It applies a given function to each item of an array, creating a new array with the results.\n",
    "\n",
    "2. PURPOSE-- Array transformation\n",
    "\n",
    "3. INPUT-- An array and a function\n",
    "\n",
    "4. OUTPUT-- A new array resulting from the application of the function on each element of the original array\n",
    "### REDUCE\n",
    "1. DESCRIPTION-- The Reduce function, as its name suggests, focuses on reduction. It processes an array to combine its values and reduce them down to a single value.\n",
    "\n",
    "2. PURPOSE-- Array reduction into a single value.\n",
    "\n",
    "3. INPUT-- An array and a binary function.\n",
    "\n",
    "4. OUTPUT-- A single value obtained by recursively applying the function on pairs of elements until only one value remains.\n",
    "### FILTER\n",
    "1. DESCRIPTION-- The Filter function aims at selection. It constructs a new array that includes elements of the original array that meet a specified condition.\n",
    "\n",
    "2. PURPOSE-- Array element selection\n",
    "\n",
    "3. INPUT-- An array and a selection criterion function\n",
    "\n",
    "4. OUTPUT-- A new array consisting only of elements from the original array that satisfy the condition.\n"
   ]
  },
  {
   "cell_type": "code",
   "execution_count": 49,
   "id": "883aaa50-7bac-4aab-a24b-cb34766b9be2",
   "metadata": {},
   "outputs": [
    {
     "name": "stdout",
     "output_type": "stream",
     "text": [
      "[10, 12, 14, 16]\n",
      "\n",
      "Product of list elements: 24\n",
      "\n",
      "Even numbers: [2, 4, 6, 8, 10]\n"
     ]
    }
   ],
   "source": [
    "# Function to return double of n\n",
    "def double(n):\n",
    "    return n * 2\n",
    "\n",
    "# Using map to double all numbers\n",
    "numbers = [5, 6, 7, 8]\n",
    "result = map(double, numbers)\n",
    "print(list(result))\n",
    "\n",
    "# Define a list of numbers\n",
    "print()\n",
    "numbers = [1, 2, 3, 4]\n",
    "import functools\n",
    "# Use reduce to compute the product of list elements\n",
    "product = functools.reduce(lambda x, y: x * y, numbers)\n",
    "print(\"Product of list elements:\", product)\n",
    "\n",
    "\n",
    "print()\n",
    "# Define a function to check if a number is even\n",
    "def is_even(n):\n",
    "    return n % 2 == 0\n",
    "\n",
    "# Define a list of numbers\n",
    "numbers = [1, 2, 3, 4, 5, 6, 7, 8, 9, 10]\n",
    "\n",
    "# Use filter to filter out even numbers\n",
    "even_numbers = filter(is_even, numbers)\n",
    "print(\"Even numbers:\", list(even_numbers))  \n",
    "\n"
   ]
  },
  {
   "cell_type": "code",
   "execution_count": null,
   "id": "ef1db85f-0fa4-43f4-b7d2-f57a51df795a",
   "metadata": {},
   "outputs": [],
   "source": []
  },
  {
   "cell_type": "code",
   "execution_count": null,
   "id": "d0189286-9a44-4d40-8f40-7f3038fd85c2",
   "metadata": {},
   "outputs": [],
   "source": []
  }
 ],
 "metadata": {
  "kernelspec": {
   "display_name": "Python 3 (ipykernel)",
   "language": "python",
   "name": "python3"
  },
  "language_info": {
   "codemirror_mode": {
    "name": "ipython",
    "version": 3
   },
   "file_extension": ".py",
   "mimetype": "text/x-python",
   "name": "python",
   "nbconvert_exporter": "python",
   "pygments_lexer": "ipython3",
   "version": "3.10.8"
  }
 },
 "nbformat": 4,
 "nbformat_minor": 5
}
